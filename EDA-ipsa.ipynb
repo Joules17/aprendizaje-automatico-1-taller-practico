{
 "cells": [
  {
   "cell_type": "code",
   "execution_count": 1,
   "id": "e486859f",
   "metadata": {},
   "outputs": [],
   "source": [
    "import numpy as np\n",
    "import pandas as pd\n",
    "import matplotlib.pyplot as plt\n",
    "from scipy.stats import chi2_contingency\n",
    "import seaborn as sns"
   ]
  },
  {
   "cell_type": "code",
   "execution_count": 2,
   "id": "7a0d2274",
   "metadata": {},
   "outputs": [],
   "source": [
    "route = './data/BD_IPSA_1940.xlsx'\n",
    "df = pd.read_excel(route)"
   ]
  },
  {
   "cell_type": "code",
   "execution_count": 3,
   "id": "f2c825a3",
   "metadata": {},
   "outputs": [
    {
     "name": "stdout",
     "output_type": "stream",
     "text": [
      "<class 'pandas.core.frame.DataFrame'>\n",
      "RangeIndex: 2187 entries, 0 to 2186\n",
      "Data columns (total 21 columns):\n",
      " #   Column          Non-Null Count  Dtype  \n",
      "---  ------          --------------  -----  \n",
      " 0   Unnamed: 0      2187 non-null   int64  \n",
      " 1   NOME            2187 non-null   object \n",
      " 2   FAZ             2187 non-null   int64  \n",
      " 3   TAL             2187 non-null   object \n",
      " 4   tipocorte       2187 non-null   object \n",
      " 5   variedad        2187 non-null   object \n",
      " 6   madurada        2187 non-null   object \n",
      " 7   producto        2187 non-null   object \n",
      " 8   dosismad        2187 non-null   float64\n",
      " 9   semsmad         2187 non-null   float64\n",
      " 10  edad            2187 non-null   float64\n",
      " 11  cortes          2187 non-null   int64  \n",
      " 12  me              2187 non-null   float64\n",
      " 13  vejez           2187 non-null   float64\n",
      " 14  sacarosa        2187 non-null   float64\n",
      " 15  mes             2187 non-null   int64  \n",
      " 16  periodo         2187 non-null   int64  \n",
      " 17  TCH             2187 non-null   int64  \n",
      " 18  lluvias         2187 non-null   int64  \n",
      " 19  grupo_tenencia  2187 non-null   int64  \n",
      " 20  pct_diatrea     2187 non-null   float64\n",
      "dtypes: float64(7), int64(8), object(6)\n",
      "memory usage: 358.9+ KB\n"
     ]
    }
   ],
   "source": [
    "df_clean = df.copy()\n",
    "df.info()"
   ]
  },
  {
   "cell_type": "code",
   "execution_count": 5,
   "id": "45440738",
   "metadata": {},
   "outputs": [],
   "source": [
    "df['Nivel_Sac'] = df['sacarosa'].apply(\n",
    "    lambda x: 'Alta' if x > 13 else ('Media' if x > 12.2 else 'Baja')\n",
    ")"
   ]
  },
  {
   "cell_type": "code",
   "execution_count": 6,
   "id": "a3628e2f",
   "metadata": {},
   "outputs": [],
   "source": [
    "df['Nivel_TCH'] = df['TCH'].apply(\n",
    "    lambda x: 'Alta' if x > 153 else ('Media' if x > 133 else 'Baja')\n",
    ")"
   ]
  },
  {
   "cell_type": "code",
   "execution_count": 7,
   "id": "104ad5ce",
   "metadata": {},
   "outputs": [],
   "source": [
    "df = df.drop(columns=['sacarosa', 'TCH'])"
   ]
  },
  {
   "cell_type": "code",
   "execution_count": null,
   "id": "73cfd5e6",
   "metadata": {},
   "outputs": [],
   "source": [
    "X = df.drop(columns = ['Nivel_Sac', 'Nivel_TCH'])\n",
    "y = df['Nivel_Sac']"
   ]
  },
  {
   "cell_type": "code",
   "execution_count": 11,
   "id": "169831c8",
   "metadata": {},
   "outputs": [],
   "source": [
    "from sklearn.model_selection import train_test_split\n",
    "X_train, X_test, y_train, y_test = train_test_split(\n",
    "    X, y, test_size=0.2, random_state=42, stratify=y\n",
    ")\n"
   ]
  },
  {
   "cell_type": "code",
   "execution_count": 12,
   "id": "b89c1def",
   "metadata": {},
   "outputs": [],
   "source": [
    "numerical_features = X_train.select_dtypes(include=np.number).columns.tolist()\n",
    "categorical_features = X_train.select_dtypes(include='object').columns.tolist()"
   ]
  },
  {
   "cell_type": "code",
   "execution_count": 16,
   "id": "45d82380",
   "metadata": {},
   "outputs": [],
   "source": [
    "for col in categorical_features:\n",
    "    X_train[col] = X_train[col].astype(str)\n",
    "    X_test[col] = X_test[col].astype(str)"
   ]
  },
  {
   "cell_type": "code",
   "execution_count": 17,
   "id": "081cf888",
   "metadata": {},
   "outputs": [],
   "source": [
    "from sklearn.pipeline import Pipeline\n",
    "from sklearn.compose import ColumnTransformer\n",
    "from sklearn.preprocessing import StandardScaler, OneHotEncoder\n",
    "from sklearn.impute import SimpleImputer, KNNImputer\n",
    "from sklearn.linear_model import LogisticRegression\n",
    "from sklearn.metrics import classification_report, confusion_matrix\n",
    "\n",
    "numeric_transformer = Pipeline(steps=[\n",
    "    ('imputer', KNNImputer(n_neighbors=5)),  \n",
    "    ('scaler', StandardScaler())                \n",
    "])\n",
    "\n",
    "categorical_transformer = Pipeline(steps=[\n",
    "    ('imputer', SimpleImputer(strategy='most_frequent')),   \n",
    "    ('onehot', OneHotEncoder(handle_unknown='ignore'))      \n",
    "])\n",
    "\n",
    "preprocessor = ColumnTransformer(\n",
    "    transformers=[\n",
    "        ('num', numeric_transformer, numerical_features),\n",
    "        ('cat', categorical_transformer, categorical_features)\n",
    "    ]\n",
    ")\n"
   ]
  },
  {
   "cell_type": "code",
   "execution_count": 19,
   "id": "81cc5db8",
   "metadata": {},
   "outputs": [],
   "source": [
    "clf = Pipeline(steps=[\n",
    "    ('preprocessor', preprocessor),\n",
    "    ('classifier', LogisticRegression(random_state=42, max_iter=1000))\n",
    "])\n",
    "\n",
    "clf.fit(X_train, y_train)\n",
    "y_pred = clf.predict(X_test)"
   ]
  },
  {
   "cell_type": "code",
   "execution_count": 20,
   "id": "5b0312fb",
   "metadata": {},
   "outputs": [
    {
     "name": "stdout",
     "output_type": "stream",
     "text": [
      "              precision    recall  f1-score   support\n",
      "\n",
      "        Alta       0.53      0.56      0.54       163\n",
      "        Baja       0.48      0.34      0.40       114\n",
      "       Media       0.40      0.45      0.43       161\n",
      "\n",
      "    accuracy                           0.47       438\n",
      "   macro avg       0.47      0.45      0.46       438\n",
      "weighted avg       0.47      0.47      0.46       438\n",
      "\n",
      "[[92 11 60]\n",
      " [26 39 49]\n",
      " [57 31 73]]\n"
     ]
    }
   ],
   "source": [
    "print(classification_report(y_test, y_pred))\n",
    "print(confusion_matrix(y_test, y_pred))"
   ]
  }
 ],
 "metadata": {
  "kernelspec": {
   "display_name": "Python 3",
   "language": "python",
   "name": "python3"
  },
  "language_info": {
   "codemirror_mode": {
    "name": "ipython",
    "version": 3
   },
   "file_extension": ".py",
   "mimetype": "text/x-python",
   "name": "python",
   "nbconvert_exporter": "python",
   "pygments_lexer": "ipython3",
   "version": "3.11.3"
  }
 },
 "nbformat": 4,
 "nbformat_minor": 5
}
